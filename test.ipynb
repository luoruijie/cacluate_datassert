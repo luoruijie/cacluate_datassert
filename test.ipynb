{
 "cells": [
  {
   "cell_type": "code",
   "execution_count": null,
   "id": "initial_id",
   "metadata": {
    "collapsed": true,
    "is_executing": true
   },
   "outputs": [],
   "source": [
    "import jieba"
   ]
  },
  {
   "cell_type": "code",
   "execution_count": 1,
   "outputs": [],
   "source": [
    "text = \"\"\"\n",
    "分析的新系统平台， 全面优化了运用、 针对轨道交通检修数据， 2017年公司开发了统计、 整备、检修、设备、物料等业务的数据链，并将数据资料深度融合，在上海铁路局创新性地\n",
    "16\n",
    "\n",
    "神州高铁技术股份有限公司 2017 年年度报告全文\n",
    "\n",
    "研发成功数据修车系统。该系统将人、机、料、法、环各环节有机关联，进行统计分析和检 修诊断， 初步实现了修前预测、 修中监控、 修后评定的效果， 有效的达到了检修的质量控制， 提升了作业效率，降低了运维成本。2017年6月，中国铁路总公司陆东福总经理在视察上海铁 路局时对公司研发设计的机车检修信息综合管理平台给予充分肯定。\n",
    "\n",
    "图5：数据修车系统\n",
    "\n",
    "工业互联网技术方面，智慧协同网络及应用技术实现多网融合、智慧协同，提升网络传 输速率。目前，依托该技术研发的智慧网络大容量传输系统已经在兰州铁路局试验成功，数 据传输最高速率240M、平均速率200M，是传统Wifi的6-9倍，是LTE传输速率的6倍。 4、坚持科研持续投入，坚持研发行业新技术，保持技术业界领先 公司一如既往的以技术研发为核心竞争力，不仅做好具体产品开发工作，更注重轨道交 通产业发展方向及前沿技术跨界应用研究。 研发人员首次突破1,000人， 研发投入超过2亿元， 同比增长50%以上。2017年公司申请专利123项，新取得授权专利89项、软著33项。 报告期内，公司与北京交通大学合作研发并拥有自主知识产权的“973”专利智慧协同网 络及应用技术荣获国家科技发明二等奖；公司下属子公司研发的“高速动车组安全运行保障 成套技术及工程应用”、“城市轨道交通上盖物业车辆基地建设与运营关键技术及应用”分 别荣获湖北省科学技术一等奖和二等奖，“轨道交通机车车辆转向架试验测试技术研究与应 用”荣获北京市科学技术三等奖，“和谐型机车车载数据智能采集分析系统”荣获上海铁路 局科学技术进步三等奖，“无源无线传感关键技术研发及应用”被北京市科委认定为北京市 电子信息技术创新与培育课题，“动车组轴温报警系统”列入北京市科委2017年度首都设计 提升计划。 5、优化内部治理结构，严格防范经营风险，全面提升管理效率 随着公司经营规模的不断扩大，业务布局的不断拓展，2017年公司加强内控体系建设， 进一步明确了对子公司财务、人力、市场营销等业务全面管控的要求，完善了沟通及管理机\n",
    "\n",
    "17\n",
    "\n",
    "神州高铁技术股份有限公司 2017 年年度报告全文\n",
    "\n",
    "制，提升了整体运营管理效率。 2017年公司将下属子公司营销队伍整合到公司总部，成立大铁、城轨及海外三大营销中 心，并在香港、美国设立了两家海外全资子公司，全面覆盖轨道交通行业市场和客户群。 此外，公司大力引进高端管理、营销和技术人员，通过完善绩效考核制度、实施股权激 励等方式优化人才结构，围绕公司核心价值观，强化文化建设。 6、全面开展合作交流，加强企业品牌影响力 公司牵头组建中关村智联轨道交通运营产业联盟，整合行业优势资源，抱团开拓市场。 公司亮相2017北京国际城市轨道交通展和第十四届中国国际现代化铁路技术装备展，展示多 款创新智能产品，体现了公司实力，提升了公司形象。公司积极搭建合作平台，寻找战略伙 伴，分别与中国中铁、中国铁建、中国交建、中国建筑、新筑路桥等10多家单位建立战略合 作关系，在轨道交通生态圈中提升了自身的知名度和影响力。 二、主营业务分析\n",
    "1、概述\n",
    "参见“经营情况讨论与分析”中的“一、概述”相关内容。\"\"\""
   ],
   "metadata": {
    "collapsed": false,
    "ExecuteTime": {
     "end_time": "2023-10-10T11:47:38.281154Z",
     "start_time": "2023-10-10T11:47:38.259157300Z"
    }
   },
   "id": "6ba741d1049b47e1"
  },
  {
   "cell_type": "code",
   "execution_count": 4,
   "outputs": [
    {
     "name": "stderr",
     "output_type": "stream",
     "text": [
      "Building prefix dict from the default dictionary ...\n",
      "Loading model from cache C:\\Users\\luoru\\AppData\\Local\\Temp\\jieba.cache\n",
      "Loading model cost 0.469 seconds.\n",
      "Prefix dict has been built successfully.\n"
     ]
    },
    {
     "data": {
      "text/plain": "['',\n '\\n',\n '',\n '分析',\n '的',\n '新',\n '系统',\n '平台',\n '，',\n ' ',\n '',\n '全面',\n '优化',\n '了',\n '运用',\n '、',\n ' ',\n '',\n '针对',\n '轨道',\n '轨道交通',\n '交通',\n '检修',\n '数据',\n '，',\n ' ',\n '',\n '2017',\n '年',\n '公司',\n '开发',\n '了',\n '统计',\n '、',\n ' ',\n '',\n '整备',\n '、',\n '检修',\n '、',\n '设备',\n '、',\n '物料',\n '等',\n '业务',\n '的',\n '数据',\n '数据链',\n '，',\n '并',\n '将',\n '数据',\n '数据资料',\n '资料',\n '深度',\n '融合',\n '，',\n '在',\n '上海',\n '上海铁路局',\n '铁路',\n '铁路局',\n '路局',\n '创新',\n '创新性',\n '性地',\n '',\n '\\n',\n '',\n '16',\n '',\n '\\n',\n '',\n '\\n',\n '',\n '神州',\n '高铁',\n '技术',\n '股份',\n '股份有限',\n '有限',\n '有限公司',\n '公司',\n '',\n ' ',\n '',\n '2017',\n '',\n ' ',\n '',\n '年',\n '年度',\n '年度报告',\n '报告',\n '全文',\n '',\n '\\n',\n '',\n '\\n',\n '',\n '研发',\n '发成',\n '成功',\n '数据',\n '修车',\n '车系',\n '系统',\n '。',\n '该系',\n '系统',\n '将',\n '人',\n '、',\n '机',\n '、',\n '料',\n '、',\n '法',\n '、',\n '环',\n '各',\n '环节',\n '有机',\n '机关',\n '关联',\n '，',\n '进行',\n '统计',\n '统计分析',\n '计分',\n '分析',\n '和',\n '检',\n '',\n ' ',\n '',\n '修',\n '诊断',\n '，',\n ' ',\n '',\n '初步',\n '实现',\n '了',\n '修',\n '前',\n '预测',\n '、',\n ' ',\n '',\n '修',\n '中',\n '监控',\n '、',\n ' ',\n '',\n '修',\n '后',\n '评定',\n '的',\n '效果',\n '，',\n ' ',\n '',\n '有效',\n '的',\n '达到',\n '了',\n '检修',\n '的',\n '质量',\n '量控',\n '控制',\n '，',\n ' ',\n '',\n '提升',\n '了',\n '作业',\n '效率',\n '，',\n '降低',\n '了',\n '运',\n '维',\n '成本',\n '。',\n '2017',\n '年',\n '6',\n '月',\n '，',\n '中国',\n '国铁',\n '铁路',\n '总公司',\n '公司',\n '陆',\n '东',\n '福',\n '总经理',\n '经理',\n '在',\n '视察',\n '上海',\n '铁',\n '',\n ' ',\n '',\n '路局',\n '时',\n '对公',\n '公司',\n '研发',\n '设计',\n '的',\n '机车',\n '车检',\n '检修',\n '信息',\n '综合',\n '管理',\n '平台',\n '给予',\n '充分',\n '充分肯定',\n '肯定',\n '。',\n '\\n',\n '',\n '\\n',\n '',\n '图',\n '5',\n '：',\n '数据',\n '修车',\n '车系',\n '系统',\n '',\n '\\n',\n '',\n '\\n',\n '',\n '工业',\n '互联',\n '互联网',\n '联网',\n '网技',\n '技术',\n '方面',\n '，',\n '智慧',\n '协同',\n '网络',\n '及',\n '应用',\n '技术',\n '实现',\n '多',\n '网',\n '融合',\n '、',\n '智慧',\n '协同',\n '，',\n '提升',\n '网络',\n '传',\n '',\n ' ',\n '',\n '输',\n '速率',\n '。',\n '目前',\n '，',\n '依托',\n '该',\n '技术',\n '研发',\n '的',\n '智慧',\n '智慧网',\n '网络',\n '大容量',\n '容量',\n '传输',\n '系统',\n '已经',\n '在',\n '兰州',\n '兰州铁路局',\n '铁路',\n '铁路局',\n '路局',\n '试验',\n '成功',\n '，',\n '数',\n '',\n ' ',\n '',\n '据传',\n '传输',\n '最高',\n '高速',\n '高速率',\n '速率',\n '240M',\n '、',\n '平均',\n '速率',\n '200M',\n '，',\n '是',\n '传统',\n 'Wifi',\n '的',\n '6',\n '-',\n '9',\n '倍',\n '，',\n '是',\n 'LTE',\n '传输',\n '传输速率',\n '速率',\n '的',\n '6',\n '倍',\n '。',\n ' ',\n '',\n '4',\n '、',\n '坚持',\n '科研',\n '持续',\n '投入',\n '，',\n '坚持',\n '研发',\n '发行',\n '发行业',\n '行业',\n '新',\n '技术',\n '，',\n '保持',\n '技术',\n '术业',\n '业界',\n '领先',\n '',\n ' ',\n '',\n '公司',\n '一如',\n '一如既往',\n '既往',\n '的',\n '以',\n '技术',\n '研发',\n '发为',\n '核心',\n '竞争',\n '竞争力',\n '，',\n '不仅',\n '做好',\n '具体',\n '产品',\n '产品开发',\n '开发',\n '工作',\n '，',\n '更',\n '注重',\n '重轨',\n '轨道',\n '交',\n '',\n ' ',\n '',\n '通产',\n '产业',\n '发展',\n '方向',\n '及',\n '前沿',\n '前沿技术',\n '技术',\n '跨',\n '界',\n '应用',\n '研究',\n '。',\n ' ',\n '',\n '研发',\n '发人',\n '人员',\n '首次',\n '突破',\n '1',\n ',',\n '000',\n '人',\n '，',\n ' ',\n '',\n '研发',\n '投入',\n '入超',\n '超过',\n '2',\n '亿元',\n '，',\n ' ',\n '',\n '同比',\n '比增',\n '增长',\n '50',\n '%',\n '以上',\n '。',\n '2017',\n '年',\n '公司',\n '申请',\n '申请专利',\n '专利',\n '123',\n '项',\n '，',\n '新',\n '取得',\n '授权',\n '专利',\n '89',\n '项',\n '、',\n '软',\n '著',\n '33',\n '项',\n '。',\n ' ',\n '',\n '报告',\n '报告期',\n '期内',\n '，',\n '公司',\n '与',\n '北京',\n '交通',\n '大学',\n '合作',\n '研发',\n '并',\n '拥有',\n '自主',\n '知识',\n '知识产权',\n '产权',\n '的',\n '“',\n '973',\n '”',\n '专利',\n '智慧',\n '协同',\n '网',\n '',\n ' ',\n '',\n '络',\n '及',\n '应用',\n '技术',\n '荣获',\n '国家',\n '科技',\n '发明',\n '二等',\n '二等奖',\n '；',\n '公司',\n '下属',\n '子公司',\n '公司',\n '研发',\n '的',\n '“',\n '高速',\n '速动',\n '动车',\n '动车组',\n '车组',\n '安全',\n '运行',\n '保障',\n '',\n ' ',\n '',\n '成套',\n '技术',\n '及',\n '工程',\n '应用',\n '”、“',\n '城市',\n '城市轨道',\n '轨道',\n '轨道交通',\n '交通',\n '通上',\n '盖',\n '物业',\n '车辆',\n '基地',\n '建设',\n '与',\n '运营',\n '关键',\n '关键技术',\n '技术',\n '及',\n '应用',\n '”',\n '分',\n '',\n ' ',\n '',\n '别',\n '荣获',\n '湖北',\n '湖北省',\n '科学',\n '科学技术',\n '技术',\n '一等',\n '一等奖',\n '和',\n '二等',\n '二等奖',\n '，“',\n '轨道',\n '轨道交通',\n '交通',\n '机车',\n '机车车辆',\n '车车',\n '车辆',\n '转向',\n '转向架',\n '试验',\n '测试',\n '技术',\n '研究',\n '与',\n '应',\n '',\n ' ',\n '',\n '用',\n '”',\n '荣获',\n '北京',\n '北京市',\n '京市',\n '科学',\n '科学技术',\n '技术',\n '三等',\n '三等奖',\n '，“',\n '和谐',\n '型',\n '机车',\n '车车',\n '车载',\n '数据',\n '智能',\n '采集',\n '分析',\n '系统',\n '”',\n '荣获',\n '上海',\n '铁路',\n '',\n ' ',\n '',\n '局',\n '科学',\n '科学技术',\n '技术',\n '进步',\n '三等',\n '三等奖',\n '，“',\n '无',\n '源',\n '无线',\n '传感',\n '关键',\n '关键技术',\n '技术',\n '研发',\n '及',\n '应用',\n '”',\n '被',\n '北京',\n '北京市',\n '北京市科委',\n '京市',\n '科委',\n '认定',\n '定为',\n '北京',\n '北京市',\n '京市',\n '',\n ' ',\n '',\n '电子',\n '电子信息',\n '信息',\n '信息技术',\n '技术',\n '技术创新',\n '创新',\n '与',\n '培育',\n '课题',\n '，“',\n '动车',\n '动车组',\n '车组',\n '轴',\n '温',\n '报警',\n '系统',\n '”',\n '列入',\n '北京',\n '北京市',\n '北京市科委',\n '京市',\n '科委',\n '2017',\n '年度',\n '首都',\n '设计',\n '',\n ' ',\n '',\n '提升',\n '计划',\n '。',\n ' ',\n '',\n '5',\n '、',\n '优化',\n '内部',\n '治理',\n '结构',\n '，',\n '严格',\n '防范',\n '经营',\n '经营风险',\n '风险',\n '，',\n '全面',\n '提升',\n '管理',\n '管理效率',\n '效率',\n '',\n ' ',\n '',\n '随着',\n '公司',\n '经营',\n '经营规模',\n '规模',\n '的',\n '不断',\n '不断扩大',\n '扩大',\n '，',\n '业务',\n '布局',\n '的',\n '不断',\n '拓展',\n '，',\n '2017',\n '年',\n '公司',\n '加强',\n '内控',\n '体系',\n '建设',\n '，',\n ' ',\n '',\n '进一步',\n '一步',\n '明确',\n '了',\n '对子',\n '子公司',\n '公司',\n '公司财务',\n '财务',\n '、',\n '人力',\n '、',\n '市场',\n '市场营销',\n '营销',\n '等',\n '业务',\n '全面',\n '管控',\n '的',\n '要求',\n '，',\n '完善',\n '了',\n '沟通',\n '及',\n '管理',\n '机',\n '',\n '\\n',\n '',\n '\\n',\n '',\n '17',\n '',\n '\\n',\n '',\n '\\n',\n '',\n '神州',\n '高铁',\n '技术',\n '股份',\n '股份有限',\n '有限',\n '有限公司',\n '公司',\n '',\n ' ',\n '',\n '2017',\n '',\n ' ',\n '',\n '年',\n '年度',\n '年度报告',\n '报告',\n '全文',\n '',\n '\\n',\n '',\n '\\n',\n '',\n '制',\n '，',\n '提升',\n '了',\n '整体',\n '运营',\n '管理',\n '管理效率',\n '效率',\n '。',\n ' ',\n '',\n '2017',\n '年',\n '公司',\n '将',\n '下属',\n '子公司',\n '公司',\n '营销',\n '队伍',\n '整合',\n '合到',\n '公司',\n '公司总部',\n '总部',\n '，',\n '成立',\n '大',\n '铁',\n '、',\n '城轨',\n '及',\n '海外',\n '三',\n '大营',\n '营销',\n '中',\n '',\n ' ',\n '',\n '心',\n '，',\n '并',\n '在',\n '香港',\n '、',\n '美国',\n '设立',\n '了',\n '两家',\n '海外',\n '全资',\n '子公司',\n '公司',\n '，',\n '全面',\n '覆盖',\n '轨道',\n '轨道交通',\n '交通',\n '通行',\n '行业',\n '市场',\n '和',\n '客户',\n '客户群',\n '。',\n ' ',\n '',\n '此外',\n '，',\n '公司',\n '大力',\n '引进',\n '高端',\n '管理',\n '、',\n '营销',\n '和',\n '技术',\n '技术人员',\n '人员',\n '，',\n '通过',\n '过完',\n '完善',\n '绩效',\n '绩效考核',\n '考核',\n '考核制',\n '考核制度',\n '制度',\n '、',\n '实施',\n '股权',\n '激',\n '',\n ' ',\n '',\n '励',\n '等',\n '方式',\n '优化',\n '人才',\n '结构',\n '，',\n '围绕',\n '公司',\n '核心',\n '价值',\n '价值观',\n '，',\n '强化',\n '文化',\n '建设',\n '。',\n ' ',\n '',\n '6',\n '、',\n '全面',\n '开展',\n '合作',\n '交流',\n '，',\n '加强',\n '企业',\n '品牌',\n '影响',\n '影响力',\n '',\n ' ',\n '',\n '公司',\n '牵头',\n '组建',\n '建中',\n '中关',\n '中关村',\n '关村',\n '智联',\n '轨道',\n '轨道交通',\n '交通',\n '通运',\n '运营',\n '营产',\n '产业',\n '联盟',\n '，',\n '整合',\n '行业',\n '优势',\n '资源',\n '，',\n '抱团',\n '开拓',\n '开拓市场',\n '市场',\n '。',\n ' ',\n '',\n '公司',\n '亮相',\n '2017',\n '北京',\n '国际',\n '城市',\n '城市轨道',\n '轨道',\n '轨道交通',\n '交通',\n '展',\n '和',\n '第十',\n '第十四',\n '第十四届',\n '十四',\n '十四届',\n '四届',\n '中国',\n '国际',\n '现代',\n '现代化',\n '化铁',\n '铁路',\n '技术',\n '技术装备',\n '装备',\n '展',\n '，',\n '展示',\n '多',\n '',\n ' ',\n '',\n '款',\n '创新',\n '智能',\n '产品',\n '，',\n '体现',\n '了',\n '公司',\n '实力',\n '，',\n '提升',\n '了',\n '公司',\n '形象',\n '。',\n '公司',\n '积极',\n '搭建',\n '合作',\n '平台',\n '，',\n '寻找',\n '战略',\n ...]"
     },
     "execution_count": 4,
     "metadata": {},
     "output_type": "execute_result"
    }
   ],
   "source": [
    "import jieba\n",
    "list(jieba.cut(text,cut_all=True,use_paddle=True))"
   ],
   "metadata": {
    "collapsed": false,
    "ExecuteTime": {
     "end_time": "2023-10-10T11:48:45.206121500Z",
     "start_time": "2023-10-10T11:48:44.701877500Z"
    }
   },
   "id": "e67f0f141b3ae93a"
  },
  {
   "cell_type": "code",
   "execution_count": 5,
   "outputs": [],
   "source": [
    "import random\n",
    "\n",
    "# 数据模拟\n",
    "provinces = [f\"Province{i}\" for i in range(1, 32)]\n",
    "years = list(range(2013, 2024))\n",
    "data = {}\n",
    "\n",
    "for province in provinces:\n",
    "    gdp = random.randint(1000, 10000)\n",
    "    annual_growth = random.uniform(0.05, 0.12)\n",
    "    data[province] = [gdp]\n",
    "\n",
    "    for year in years[1:]:\n",
    "        gdp = int(gdp * (1 + annual_growth))\n",
    "        data[province].append(gdp)\n"
   ],
   "metadata": {
    "collapsed": false,
    "ExecuteTime": {
     "end_time": "2023-10-12T08:13:10.946453200Z",
     "start_time": "2023-10-12T08:13:10.924894100Z"
    }
   },
   "id": "dde1f1571877b146"
  },
  {
   "cell_type": "code",
   "execution_count": 6,
   "outputs": [
    {
     "name": "stdout",
     "output_type": "stream",
     "text": [
      "pygame 2.5.2 (SDL 2.28.3, Python 3.8.10)\n",
      "Hello from the pygame community. https://www.pygame.org/contribute.html\n"
     ]
    },
    {
     "ename": "KeyboardInterrupt",
     "evalue": "",
     "output_type": "error",
     "traceback": [
      "\u001B[1;31m---------------------------------------------------------------------------\u001B[0m",
      "\u001B[1;31mKeyboardInterrupt\u001B[0m                         Traceback (most recent call last)",
      "Cell \u001B[1;32mIn[6], line 42\u001B[0m\n\u001B[0;32m     39\u001B[0m draw_chart(year_index)\n\u001B[0;32m     41\u001B[0m pygame\u001B[38;5;241m.\u001B[39mdisplay\u001B[38;5;241m.\u001B[39mflip()\n\u001B[1;32m---> 42\u001B[0m \u001B[43mclock\u001B[49m\u001B[38;5;241;43m.\u001B[39;49m\u001B[43mtick\u001B[49m\u001B[43m(\u001B[49m\u001B[38;5;241;43m1\u001B[39;49m\u001B[43m)\u001B[49m  \u001B[38;5;66;03m# 1秒换一年\u001B[39;00m\n\u001B[0;32m     44\u001B[0m year_index \u001B[38;5;241m+\u001B[39m\u001B[38;5;241m=\u001B[39m \u001B[38;5;241m1\u001B[39m\n\u001B[0;32m     45\u001B[0m \u001B[38;5;28;01mif\u001B[39;00m year_index \u001B[38;5;241m>\u001B[39m\u001B[38;5;241m=\u001B[39m \u001B[38;5;28mlen\u001B[39m(years):\n",
      "\u001B[1;31mKeyboardInterrupt\u001B[0m: "
     ]
    }
   ],
   "source": [
    "import pygame\n",
    "import sys\n",
    "\n",
    "# 初始化pygame\n",
    "pygame.init()\n",
    "\n",
    "# 设置屏幕参数\n",
    "WIDTH, HEIGHT = 800, 600\n",
    "screen = pygame.display.set_mode((WIDTH, HEIGHT))\n",
    "pygame.display.set_caption('GDP Ranking Animation')\n",
    "\n",
    "# 颜色定义\n",
    "WHITE = (255, 255, 255)\n",
    "colors = [(random.randint(0, 255), random.randint(0, 255), random.randint(0, 255)) for _ in range(31)]\n",
    "\n",
    "# 用于控制帧数的对象\n",
    "clock = pygame.time.Clock()\n",
    "\n",
    "def draw_chart(year_index):\n",
    "    screen.fill(WHITE)\n",
    "    sorted_data = sorted(data.items(), key=lambda x: x[1][year_index], reverse=True)\n",
    "\n",
    "    # 绘制每一年的数据\n",
    "    for idx, (province, gdps) in enumerate(sorted_data):\n",
    "        pygame.draw.rect(screen, colors[idx], (50, idx*20, gdps[year_index] * 0.001, 15))\n",
    "        label = pygame.font.SysFont(None, 25).render(f\"{province}: {gdps[year_index]}\", 1, (0,0,0))\n",
    "        screen.blit(label, (50 + gdps[year_index] * 0.001 + 5, idx*20))\n",
    "\n",
    "    year_label = pygame.font.SysFont(None, 30).render(f\"Year: {years[year_index]}\", 1, (0,0,0))\n",
    "    screen.blit(year_label, (WIDTH - 100, HEIGHT - 30))\n",
    "\n",
    "running = True\n",
    "year_index = 0\n",
    "while running:\n",
    "    for event in pygame.event.get():\n",
    "        if event.type == pygame.QUIT:\n",
    "            running = False\n",
    "\n",
    "    draw_chart(year_index)\n",
    "\n",
    "    pygame.display.flip()\n",
    "    clock.tick(1)  # 1秒换一年\n",
    "\n",
    "    year_index += 1\n",
    "    if year_index >= len(years):\n",
    "        year_index = 0\n",
    "\n",
    "pygame.quit()\n",
    "sys.exit()  \n"
   ],
   "metadata": {
    "collapsed": false,
    "ExecuteTime": {
     "end_time": "2023-10-12T08:16:03.572470500Z",
     "start_time": "2023-10-12T08:15:12.900526100Z"
    }
   },
   "id": "dd47213906ca42ee"
  },
  {
   "cell_type": "code",
   "execution_count": 1,
   "outputs": [],
   "source": [
    "a = [\"XX的本质是什么？\", \"请简述XX的概念。\", \"XX的意义体现在哪些方面？\", \"你如何定义XX的？\", \"你能否为XX提供一个定义？\"]"
   ],
   "metadata": {
    "collapsed": false,
    "ExecuteTime": {
     "end_time": "2023-10-12T08:42:28.081150100Z",
     "start_time": "2023-10-12T08:42:28.044596900Z"
    }
   },
   "id": "ea2b155dc41a2049"
  },
  {
   "cell_type": "code",
   "execution_count": 2,
   "outputs": [
    {
     "name": "stdout",
     "output_type": "stream",
     "text": [
      "XX的本质是什么？\n",
      "请简述XX的概念。\n",
      "XX的意义体现在哪些方面？\n",
      "你如何定义XX的？\n",
      "你能否为XX提供一个定义？\n"
     ]
    }
   ],
   "source": [
    "for item in a:\n",
    "    print(item)"
   ],
   "metadata": {
    "collapsed": false,
    "ExecuteTime": {
     "end_time": "2023-10-12T08:42:39.115305900Z",
     "start_time": "2023-10-12T08:42:39.097298300Z"
    }
   },
   "id": "fd7a376704012e6d"
  },
  {
   "cell_type": "code",
   "execution_count": 10,
   "outputs": [],
   "source": [
    "import numpy as np\n",
    "import pandas as pd \n",
    "\n",
    "# 加载 npz 文件\n",
    "data = np.load('data.npz',allow_pickle=True)\n",
    "\n",
    "# 遍历 npz 文件中的所有数组并保存为 csv 文件\n",
    "for key in data.files:\n",
    "    array = data[key]\n",
    "    # 使用 numpy\n",
    "    # array = array.astype(float)\n",
    "    # \n",
    "    # np.savetxt(f\"{key}.csv\", array, delimiter=\",\")\n",
    "    # 或使用 pandas\n",
    "    df = pd.DataFrame(array)\n",
    "    df.to_csv(f\"{key}.csv\", index=False)\n"
   ],
   "metadata": {
    "collapsed": false,
    "ExecuteTime": {
     "end_time": "2023-10-12T09:24:02.602344500Z",
     "start_time": "2023-10-12T09:24:02.343908Z"
    }
   },
   "id": "5c48eae45c177aef"
  },
  {
   "cell_type": "code",
   "execution_count": 5,
   "outputs": [
    {
     "data": {
      "text/plain": "['columns', 'values']"
     },
     "execution_count": 5,
     "metadata": {},
     "output_type": "execute_result"
    }
   ],
   "source": [
    "data.files"
   ],
   "metadata": {
    "collapsed": false,
    "ExecuteTime": {
     "end_time": "2023-10-12T09:20:55.766194800Z",
     "start_time": "2023-10-12T09:20:55.717348400Z"
    }
   },
   "id": "9716f95f3596e5b2"
  },
  {
   "cell_type": "code",
   "execution_count": 6,
   "outputs": [
    {
     "data": {
      "text/plain": "array(['序号', '时间', '国内生产总值_当季值(亿元)', '第一产业增加值_当季值(亿元)', '第二产业增加值_当季值(亿元)',\n       '第三产业增加值_当季值(亿元)', '农林牧渔业增加值_当季值(亿元)', '工业增加值_当季值(亿元)',\n       '建筑业增加值_当季值(亿元)', '批发和零售业增加值_当季值(亿元)', '交通运输、仓储和邮政业增加值_当季值(亿元)',\n       '住宿和餐饮业增加值_当季值(亿元)', '金融业增加值_当季值(亿元)', '房地产业增加值_当季值(亿元)',\n       '其他行业增加值_当季值(亿元)'], dtype=object)"
     },
     "execution_count": 6,
     "metadata": {},
     "output_type": "execute_result"
    }
   ],
   "source": [
    "data['columns']"
   ],
   "metadata": {
    "collapsed": false,
    "ExecuteTime": {
     "end_time": "2023-10-12T09:21:11.139205700Z",
     "start_time": "2023-10-12T09:21:11.084322300Z"
    }
   },
   "id": "3b2820f75872e632"
  },
  {
   "cell_type": "code",
   "execution_count": 11,
   "outputs": [],
   "source": [
    "df = pd.read_csv(\"output.csv\")"
   ],
   "metadata": {
    "collapsed": false,
    "ExecuteTime": {
     "end_time": "2023-10-13T13:38:16.118466600Z",
     "start_time": "2023-10-13T13:38:15.810160900Z"
    }
   },
   "id": "20f6dfda7b17d548"
  },
  {
   "cell_type": "code",
   "execution_count": null,
   "outputs": [],
   "source": [
    "df['比值']"
   ],
   "metadata": {
    "collapsed": false
   },
   "id": "8e16cda81050825e"
  },
  {
   "cell_type": "code",
   "execution_count": 1,
   "outputs": [
    {
     "data": {
      "text/plain": "         时间  目标词的总词频     总词频      比值    股票代码  公司名称\n0      2010        0  186938  0.0000  000002   万科A\n1      2011        0  192448  0.0000  000002   万科A\n2      2012        0  205333  0.0000  000002   万科A\n3      2013        5  101297  0.0049  000002   万科A\n4      2014        5  107892  0.0046  000002   万科A\n...     ...      ...     ...     ...     ...   ...\n31926  2022        2  120881  0.0017  873169  七丰精工\n31927  2022        0  120953  0.0000  873223  荣亿精密\n31928  2022        5   88506  0.0056  873305  九菱科技\n31929  2022        0  115152  0.0000  873339  恒太照明\n31930  2022        1  121165  0.0008  873527   夜光明\n\n[31931 rows x 6 columns]",
      "text/html": "<div>\n<style scoped>\n    .dataframe tbody tr th:only-of-type {\n        vertical-align: middle;\n    }\n\n    .dataframe tbody tr th {\n        vertical-align: top;\n    }\n\n    .dataframe thead th {\n        text-align: right;\n    }\n</style>\n<table border=\"1\" class=\"dataframe\">\n  <thead>\n    <tr style=\"text-align: right;\">\n      <th></th>\n      <th>时间</th>\n      <th>目标词的总词频</th>\n      <th>总词频</th>\n      <th>比值</th>\n      <th>股票代码</th>\n      <th>公司名称</th>\n    </tr>\n  </thead>\n  <tbody>\n    <tr>\n      <th>0</th>\n      <td>2010</td>\n      <td>0</td>\n      <td>186938</td>\n      <td>0.0000</td>\n      <td>000002</td>\n      <td>万科A</td>\n    </tr>\n    <tr>\n      <th>1</th>\n      <td>2011</td>\n      <td>0</td>\n      <td>192448</td>\n      <td>0.0000</td>\n      <td>000002</td>\n      <td>万科A</td>\n    </tr>\n    <tr>\n      <th>2</th>\n      <td>2012</td>\n      <td>0</td>\n      <td>205333</td>\n      <td>0.0000</td>\n      <td>000002</td>\n      <td>万科A</td>\n    </tr>\n    <tr>\n      <th>3</th>\n      <td>2013</td>\n      <td>5</td>\n      <td>101297</td>\n      <td>0.0049</td>\n      <td>000002</td>\n      <td>万科A</td>\n    </tr>\n    <tr>\n      <th>4</th>\n      <td>2014</td>\n      <td>5</td>\n      <td>107892</td>\n      <td>0.0046</td>\n      <td>000002</td>\n      <td>万科A</td>\n    </tr>\n    <tr>\n      <th>...</th>\n      <td>...</td>\n      <td>...</td>\n      <td>...</td>\n      <td>...</td>\n      <td>...</td>\n      <td>...</td>\n    </tr>\n    <tr>\n      <th>31926</th>\n      <td>2022</td>\n      <td>2</td>\n      <td>120881</td>\n      <td>0.0017</td>\n      <td>873169</td>\n      <td>七丰精工</td>\n    </tr>\n    <tr>\n      <th>31927</th>\n      <td>2022</td>\n      <td>0</td>\n      <td>120953</td>\n      <td>0.0000</td>\n      <td>873223</td>\n      <td>荣亿精密</td>\n    </tr>\n    <tr>\n      <th>31928</th>\n      <td>2022</td>\n      <td>5</td>\n      <td>88506</td>\n      <td>0.0056</td>\n      <td>873305</td>\n      <td>九菱科技</td>\n    </tr>\n    <tr>\n      <th>31929</th>\n      <td>2022</td>\n      <td>0</td>\n      <td>115152</td>\n      <td>0.0000</td>\n      <td>873339</td>\n      <td>恒太照明</td>\n    </tr>\n    <tr>\n      <th>31930</th>\n      <td>2022</td>\n      <td>1</td>\n      <td>121165</td>\n      <td>0.0008</td>\n      <td>873527</td>\n      <td>夜光明</td>\n    </tr>\n  </tbody>\n</table>\n<p>31931 rows × 6 columns</p>\n</div>"
     },
     "execution_count": 1,
     "metadata": {},
     "output_type": "execute_result"
    }
   ],
   "source": [
    "import pandas as pd\n",
    "\n",
    "# 样例数据\n",
    "df = pd.read_csv(\"output.csv\")\n",
    "\n",
    "\n",
    "# 拆分公司名列\n",
    "df['股票代码'] = df['公司名'].str[:6]\n",
    "df['公司名称'] = df['公司名'].str[6:]\n",
    "\n",
    "# 删除原有的公司名列\n",
    "df.drop('公司名', axis=1, inplace=True)\n",
    "\n",
    "df\n"
   ],
   "metadata": {
    "collapsed": false,
    "ExecuteTime": {
     "end_time": "2023-10-14T12:58:25.158381100Z",
     "start_time": "2023-10-14T12:58:23.062864800Z"
    }
   },
   "id": "22a7283640769992"
  },
  {
   "cell_type": "code",
   "execution_count": 6,
   "outputs": [],
   "source": [
    "df['股票代码'] =df['股票代码'].astype(\"int64\")\n",
    "df.to_csv(\"output1.csv\")"
   ],
   "metadata": {
    "collapsed": false,
    "ExecuteTime": {
     "end_time": "2023-10-14T13:04:50.216471500Z",
     "start_time": "2023-10-14T13:04:50.150951100Z"
    }
   },
   "id": "db1fcb347ea55619"
  },
  {
   "cell_type": "code",
   "execution_count": 4,
   "outputs": [
    {
     "data": {
      "text/plain": "str"
     },
     "execution_count": 4,
     "metadata": {},
     "output_type": "execute_result"
    }
   ],
   "source": [
    "type(df.loc[0,\"股票代码\"])"
   ],
   "metadata": {
    "collapsed": false,
    "ExecuteTime": {
     "end_time": "2023-10-14T13:03:45.892066700Z",
     "start_time": "2023-10-14T13:03:45.875065700Z"
    }
   },
   "id": "3a8e2810f547f7bc"
  },
  {
   "cell_type": "code",
   "execution_count": null,
   "outputs": [],
   "source": [
    "type()"
   ],
   "metadata": {
    "collapsed": false
   },
   "id": "cc7789ade6b7299e"
  }
 ],
 "metadata": {
  "kernelspec": {
   "display_name": "Python 3",
   "language": "python",
   "name": "python3"
  },
  "language_info": {
   "codemirror_mode": {
    "name": "ipython",
    "version": 2
   },
   "file_extension": ".py",
   "mimetype": "text/x-python",
   "name": "python",
   "nbconvert_exporter": "python",
   "pygments_lexer": "ipython2",
   "version": "2.7.6"
  }
 },
 "nbformat": 4,
 "nbformat_minor": 5
}
